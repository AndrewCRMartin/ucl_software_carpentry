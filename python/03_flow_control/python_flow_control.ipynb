{
 "metadata": {
  "name": "python_flow_control"
 }, 
 "nbformat": 2, 
 "worksheets": [
  {
   "cells": [
    {
     "cell_type": "markdown", 
     "source": [
      "# Python: Flow Control"
     ]
    }, 
    {
     "cell_type": "markdown", 
     "source": [
      "Materials by: [John Blischak](https://github.com/jdblischak \"GitHub\") and other Software Carpentry instructors (Joshua R. Smith, Milad Fatenejad, Katy Huff, Tommy Guy and many more)"
     ]
    }, 
    {
     "cell_type": "markdown", 
     "source": [
      "In this lesson we will cover how to write code that will execute only if specified conditions are met and also how to automate repetitive tasks using loops."
     ]
    }, 
    {
     "cell_type": "markdown", 
     "source": [
      "# If statements", 
      "", 
      "A conditional (if statement) is some statement that in general says :", 
      "\"When some boolean is true, do the following. Otherwise, do this other", 
      "thing.\"", 
      "", 
      "Many equivalence test statements exist in Python that are similar in", 
      "other languages: `< > <= >= == !=`"
     ]
    }, 
    {
     "cell_type": "code", 
     "collapsed": true, 
     "input": [
      "x = 5", 
      "if x < 0:", 
      "    print \"x is negative\""
     ], 
     "language": "python", 
     "outputs": [], 
     "prompt_number": 1
    }, 
    {
     "cell_type": "code", 
     "collapsed": false, 
     "input": [
      "x = -5", 
      "if x < 0:", 
      "    print \"x is negative\""
     ], 
     "language": "python", 
     "outputs": [
      {
       "output_type": "stream", 
       "stream": "stdout", 
       "text": [
        "x is negative"
       ]
      }
     ], 
     "prompt_number": 2
    }, 
    {
     "cell_type": "code", 
     "collapsed": false, 
     "input": [
      "x = 5", 
      "if x < 0:", 
      "    print \"x is negative\"", 
      "else:", 
      "    print \"x in non-negative\""
     ], 
     "language": "python", 
     "outputs": [
      {
       "output_type": "stream", 
       "stream": "stdout", 
       "text": [
        "x in non-negative"
       ]
      }
     ], 
     "prompt_number": 3
    }, 
    {
     "cell_type": "code", 
     "collapsed": false, 
     "input": [
      "x = 5", 
      "if x < 0:", 
      "    print \"x is negative\"", 
      "elif x == 0:", 
      "    print \"x is zero\"", 
      "else:", 
      "    print \"x is positive\""
     ], 
     "language": "python", 
     "outputs": [
      {
       "output_type": "stream", 
       "stream": "stdout", 
       "text": [
        "x is positive"
       ]
      }
     ], 
     "prompt_number": 4
    }, 
    {
     "cell_type": "markdown", 
     "source": [
      "Be careful because the computer interprets comparisons very literally."
     ]
    }, 
    {
     "cell_type": "code", 
     "collapsed": false, 
     "input": [
      "'1' < 2"
     ], 
     "language": "python", 
     "outputs": [
      {
       "output_type": "pyout", 
       "prompt_number": 5, 
       "text": [
        "False"
       ]
      }
     ], 
     "prompt_number": 5
    }, 
    {
     "cell_type": "code", 
     "collapsed": false, 
     "input": [
      "True == 'True'"
     ], 
     "language": "python", 
     "outputs": [
      {
       "output_type": "pyout", 
       "prompt_number": 6, 
       "text": [
        "False"
       ]
      }
     ], 
     "prompt_number": 6
    }, 
    {
     "cell_type": "code", 
     "collapsed": false, 
     "input": [
      "False == 0"
     ], 
     "language": "python", 
     "outputs": [
      {
       "output_type": "pyout", 
       "prompt_number": 7, 
       "text": [
        "True"
       ]
      }
     ], 
     "prompt_number": 7
    }, 
    {
     "cell_type": "code", 
     "collapsed": false, 
     "input": [
      "'Bears' > 'Packers'"
     ], 
     "language": "python", 
     "outputs": [
      {
       "output_type": "pyout", 
       "prompt_number": 8, 
       "text": [
        "False"
       ]
      }
     ], 
     "prompt_number": 8
    }, 
    {
     "cell_type": "markdown", 
     "source": [
      "Python has other equivalence test statements that are fairly", 
      "unique to python. To check whether an object is contained in a list :"
     ]
    }, 
    {
     "cell_type": "code", 
     "collapsed": false, 
     "input": [
      "beatle=\"John\"", 
      "beatles=[\"George\", \"Ringo\",\"John\", \"Paul\"]", 
      "print beatle in beatles # is John one of the beatles? : TRUE", 
      "print \"Katy\" not in beatles # this is also TRUE. "
     ], 
     "language": "python", 
     "outputs": [
      {
       "output_type": "stream", 
       "stream": "stdout", 
       "text": [
        "True", 
        "True"
       ]
      }
     ], 
     "prompt_number": 9
    }, 
    {
     "cell_type": "markdown", 
     "source": [
      "## Indentation", 
      "The indentation is a feature of python that some people hate. Some other programming languages use brackets to denote a command block. Python uses indentation. The amount of indentation doesn't matter, so long as everything in the same block is indented the same amount."
     ]
    }, 
    {
     "cell_type": "markdown", 
     "source": [
      "## Short Exercise", 
      "Write an if statement that prints whether x is even or odd."
     ]
    }, 
    {
     "cell_type": "markdown", 
     "source": [
      "# Loops", 
      "Loops come in two flavors: `while` and `for`."
     ]
    }, 
    {
     "cell_type": "code", 
     "collapsed": false, 
     "input": [
      "fruits = ['apples', 'oranges', 'pears', 'bananas']", 
      "i = 0", 
      "while i < len(fruits):", 
      "    print fruits[i]", 
      "    i = i + 1"
     ], 
     "language": "python", 
     "outputs": [
      {
       "output_type": "stream", 
       "stream": "stdout", 
       "text": [
        "apples", 
        "oranges", 
        "pears", 
        "bananas"
       ]
      }
     ], 
     "prompt_number": 10
    }, 
    {
     "cell_type": "code", 
     "collapsed": false, 
     "input": [
      "for fruit in fruits:", 
      "    print fruit"
     ], 
     "language": "python", 
     "outputs": [
      {
       "output_type": "stream", 
       "stream": "stdout", 
       "text": [
        "apples", 
        "oranges", 
        "pears", 
        "bananas"
       ]
      }
     ], 
     "prompt_number": 11
    }, 
    {
     "cell_type": "code", 
     "collapsed": false, 
     "input": [
      "# Use range for a range on integers", 
      "for i in range(len(fruits)):", 
      "    print i, fruits[i]"
     ], 
     "language": "python", 
     "outputs": [
      {
       "output_type": "stream", 
       "stream": "stdout", 
       "text": [
        "0 apples", 
        "1 oranges", 
        "2 pears", 
        "3 bananas"
       ]
      }
     ], 
     "prompt_number": 12
    }, 
    {
     "cell_type": "code", 
     "collapsed": false, 
     "input": [
      "# Use zip to iterate over two lists at once", 
      "fruits = ['apples', 'oranges', 'pears', 'bananas']", 
      "prices = [0.49, 0.99, 1.49, 0.32]", 
      "for fruit, price in zip(fruits, prices):", 
      "    print fruit, \"cost\", price, \"each\"", 
      "    "
     ], 
     "language": "python", 
     "outputs": [
      {
       "output_type": "stream", 
       "stream": "stdout", 
       "text": [
        "apples cost 0.49 each", 
        "oranges cost 0.99 each", 
        "pears cost 1.49 each", 
        "bananas cost 0.32 each"
       ]
      }
     ], 
     "prompt_number": 13
    }, 
    {
     "cell_type": "code", 
     "collapsed": false, 
     "input": [
      "# Use \"items\" to iterate over a dictionary", 
      "# Note the order is non-deterministic", 
      "prices = {'apples': 0.49, 'oranges': 0.99, 'pears': 1.49, 'bananas': 0.32}", 
      "for fruit, price in prices.items():", 
      "    print fruit, \"cost\", price, \"each\"", 
      "          "
     ], 
     "language": "python", 
     "outputs": [
      {
       "output_type": "stream", 
       "stream": "stdout", 
       "text": [
        "pears cost 1.49 each", 
        "apples cost 0.49 each", 
        "oranges cost 0.99 each", 
        "bananas cost 0.32 each"
       ]
      }
     ], 
     "prompt_number": 14
    }, 
    {
     "cell_type": "code", 
     "collapsed": false, 
     "input": [
      "# Calculating a sum", 
      "values = [1254, 95818, 61813541, 1813, 4]", 
      "sum = 0", 
      "for x in values:", 
      "    sum = sum + x", 
      "sum"
     ], 
     "language": "python", 
     "outputs": [
      {
       "output_type": "pyout", 
       "prompt_number": 15, 
       "text": [
        "61912430"
       ]
      }
     ], 
     "prompt_number": 15
    }, 
    {
     "cell_type": "markdown", 
     "source": [
      "## Short Exercise", 
      "Using a loop, calculate the factorial of 42 (the product of all integers up to and including 42)."
     ]
    }, 
    {
     "cell_type": "markdown", 
     "source": [
      "## break, continue, and else", 
      "", 
      "A break statement cuts off a loop from within an inner loop. It helps", 
      "avoid infinite loops by cutting off loops when they're clearly going", 
      "nowhere."
     ]
    }, 
    {
     "cell_type": "code", 
     "collapsed": false, 
     "input": [
      "reasonable = 10", 
      "for n in range(1,2000):", 
      "    if n == reasonable :", 
      "        break", 
      "    print n"
     ], 
     "language": "python", 
     "outputs": [
      {
       "output_type": "stream", 
       "stream": "stdout", 
       "text": [
        "1", 
        "2", 
        "3", 
        "4", 
        "5", 
        "6", 
        "7", 
        "8", 
        "9"
       ]
      }
     ], 
     "prompt_number": 16
    }, 
    {
     "cell_type": "markdown", 
     "source": [
      "Something you might want to do instead of breaking is to continue to the", 
      "next iteration of a loop, giving up on the current one."
     ]
    }, 
    {
     "cell_type": "code", 
     "collapsed": false, 
     "input": [
      "reasonable = 10", 
      "for n in range(1,20):", 
      "    if n == reasonable :", 
      "      continue", 
      "    print n"
     ], 
     "language": "python", 
     "outputs": [
      {
       "output_type": "stream", 
       "stream": "stdout", 
       "text": [
        "1", 
        "2", 
        "3", 
        "4", 
        "5", 
        "6", 
        "7", 
        "8", 
        "9", 
        "11", 
        "12", 
        "13", 
        "14", 
        "15", 
        "16", 
        "17", 
        "18", 
        "19"
       ]
      }
     ], 
     "prompt_number": 17
    }, 
    {
     "cell_type": "markdown", 
     "source": [
      "What is the difference between the output of these two?", 
      "", 
      "Importantly, Python allows you to use an else statement in a for loop.", 
      "", 
      "That is :"
     ]
    }, 
    {
     "cell_type": "code", 
     "collapsed": false, 
     "input": [
      "knights={\"Sir Belvedere\":\"the Wise\", \"Sir Lancelot\":\"the Brave\", \\", 
      "        \"Sir Galahad\":\"the Pure\", \"Sir Robin\":\"the Brave\", \"The Black Knight\":\"John Clease\"} ", 
      "", 
      "favorites=knights.keys()", 
      "favorites.remove(\"Sir Robin\")", 
      "for name, title in knights.iteritems() : ", 
      "    string = name + \", \"", 
      "    for fav in favorites :", 
      "        if fav == name :", 
      "            string += title", 
      "            break", 
      "    else:", 
      "        string += title + \", but not quite so brave as Sir Lancelot.\" ", 
      "    print string"
     ], 
     "language": "python", 
     "outputs": [
      {
       "output_type": "stream", 
       "stream": "stdout", 
       "text": [
        "Sir Galahad, the Pure", 
        "Sir Belvedere, the Wise", 
        "Sir Lancelot, the Brave", 
        "The Black Knight, John Clease", 
        "Sir Robin, the Brave, but not quite so brave as Sir Lancelot."
       ]
      }
     ], 
     "prompt_number": 18
    }, 
    {
     "cell_type": "markdown", 
     "source": [
      "# Reading from a file"
     ]
    }, 
    {
     "cell_type": "code", 
     "collapsed": true, 
     "input": [
      "less example.txt"
     ], 
     "language": "python", 
     "outputs": [], 
     "prompt_number": 14
    }, 
    {
     "cell_type": "code", 
     "collapsed": false, 
     "input": [
      "my_file = open(\"example.txt\")", 
      "for line in my_file:", 
      "    print line.strip()", 
      "my_file.close()"
     ], 
     "language": "python", 
     "outputs": [
      {
       "output_type": "stream", 
       "stream": "stdout", 
       "text": [
        "This is line 1.", 
        "This is line 2.", 
        "This is line 3.", 
        "This is line 4.", 
        "This is line 5."
       ]
      }
     ], 
     "prompt_number": 19
    }, 
    {
     "cell_type": "markdown", 
     "source": [
      "# Writing to a file"
     ]
    }, 
    {
     "cell_type": "code", 
     "collapsed": true, 
     "input": [
      "new_file = open(\"example2.txt\", \"w\")", 
      "dwight = ['bears', 'beets', 'Battlestar Galactica']", 
      "for i in dwight:", 
      "    new_file.write(i + '\\n')", 
      "new_file.close()"
     ], 
     "language": "python", 
     "outputs": [], 
     "prompt_number": 20
    }, 
    {
     "cell_type": "code", 
     "collapsed": true, 
     "input": [
      "less example2.txt"
     ], 
     "language": "python", 
     "outputs": [], 
     "prompt_number": 21
    }, 
    {
     "cell_type": "markdown", 
     "source": [
      "# Longer Exercise: Convert genotypes", 
      "If most of this material is brand new to you, your goal is to complete Part 1. If you are more experienced, please move on to Part 2 and Part 3. And don't forget to talk to your neighbor!"
     ]
    }, 
    {
     "cell_type": "markdown", 
     "source": [
      "### Motivation:", 
      "A biologist is interested in the genetic basis of height. She measures the heights of many subjects and sends off their DNA samples to a core for genotyping arrays. These arrays determine the DNA bases at the variable sites of the genome (known as single nucleotide polymorphisms, or SNPs). Since humans are diploid, i.e. have two of each chromosome, each data point will be two DNA bases corresponding to the two chromosomes in each individual. At each SNP, there will be only three possible genotypes, e.g. AA, AG, GG for an A/G SNP. In order to test the correlation between a SNP genotype and height, she wants to perform a regression with an additive genetic model. However, she cannot do this with the data in the current form. She needs to convert the genotypes, e.g. AA, AG, and GG, to the numbers 0, 1, and 2, respectively (in the example the number corresponds the number of G bases the person has at that SNP). Since she has too much data to do this manually, e.g. in Excel, she comes to you for ideas of how to efficiently transform the data."
     ]
    }, 
    {
     "cell_type": "markdown", 
     "source": [
      "## Part 1:", 
      "Create a new list which has the converted genotype for each subject ('AA' -> 0, 'AG' -> 1, 'GG' -> 2)."
     ]
    }, 
    {
     "cell_type": "code", 
     "collapsed": false, 
     "input": [
      "genos = ['AA', 'GG', 'AG', 'AG', 'GG']", 
      "genos_new = []", 
      "# Use your knowledge of if/else statements and loop structures below.", 
      "convert = {\"AA\":0, \"AG\":1, \"GA\":1, \"GG\":2}", 
      "for i in range(len(genos)):", 
      "    genos_new.append(convert[genos[i]])", 
      "print genos_new"
     ], 
     "language": "python", 
     "outputs": [
      {
       "output_type": "stream", 
       "stream": "stdout", 
       "text": [
        "[0, 2, 1, 1, 2]"
       ]
      }
     ], 
     "prompt_number": 28
    }, 
    {
     "cell_type": "markdown", 
     "source": [
      "Check your work:"
     ]
    }, 
    {
     "cell_type": "code", 
     "collapsed": false, 
     "input": [
      "genos_new == [0, 2, 1, 1, 2]"
     ], 
     "language": "python", 
     "outputs": [
      {
       "output_type": "pyout", 
       "prompt_number": 29, 
       "text": [
        "True"
       ]
      }
     ], 
     "prompt_number": 29
    }, 
    {
     "cell_type": "markdown", 
     "source": [
      "## Part 2:", 
      "Sometimes there are errors and the genotype cannot be determined. Adapt your code from above to deal with this problem (in this example missing data is assigned NA for \"Not Available\")."
     ]
    }, 
    {
     "cell_type": "code", 
     "collapsed": false, 
     "input": [
      "genos_w_missing = ['AA', 'NA', 'GG', 'AG', 'AG', 'GG', 'NA']", 
      "genos_w_missing_new = []", 
      "# The missing data should not be converted to a number, but remain 'NA' in the new list", 
      "convert = {\"AA\":0, \"AG\":1, \"GA\":1, \"GG\":2, \"NA\":\"NA\"}", 
      "for i in range(len(genos_w_missing)):", 
      "    genos_w_missing_new.append(convert[genos_w_missing[i]])", 
      "print genos_w_missing_new"
     ], 
     "language": "python", 
     "outputs": [
      {
       "output_type": "stream", 
       "stream": "stdout", 
       "text": [
        "[0, &apos;NA&apos;, 2, 1, 1, 2, &apos;NA&apos;]"
       ]
      }
     ], 
     "prompt_number": 31
    }, 
    {
     "cell_type": "markdown", 
     "source": [
      "Check your work:"
     ]
    }, 
    {
     "cell_type": "code", 
     "collapsed": false, 
     "input": [
      "genos_w_missing_new == [0, 'NA', 2, 1, 1, 2, 'NA']"
     ], 
     "language": "python", 
     "outputs": [
      {
       "output_type": "pyout", 
       "prompt_number": 32, 
       "text": [
        "True"
       ]
      }
     ], 
     "prompt_number": 32
    }, 
    {
     "cell_type": "markdown", 
     "source": [
      "## Part 3:", 
      "The file genos.txt has a column of genotypes. Read in the data and convert the genotypes as above. Hint: You'll need to use the built-in string method strip to remove the new-line characters (See the example of reading in a file above. We will cover string methods in the next section)."
     ]
    }, 
    {
     "cell_type": "code", 
     "collapsed": true, 
     "input": [
      "# Store the genotypes from genos.txt in this list", 
      "genos_from_file = []"
     ], 
     "language": "python", 
     "outputs": [], 
     "prompt_number": 23
    }, 
    {
     "cell_type": "markdown", 
     "source": [
      "Check your work:"
     ]
    }, 
    {
     "cell_type": "code", 
     "collapsed": true, 
     "input": [
      "genos_from_file[:15] == [2, 2, 1, 1, 0, 0, 2, 2, 2, 0, 'NA', 1, 0, 0, 2]"
     ], 
     "language": "python", 
     "outputs": [], 
     "prompt_number": 24
    }, 
    {
     "cell_type": "markdown", 
     "source": [
      "# Bonus material: List comprehensions"
     ]
    }, 
    {
     "cell_type": "markdown", 
     "source": [
      "Python has another way to perform iteration called list comprehensions."
     ]
    }, 
    {
     "cell_type": "code", 
     "collapsed": true, 
     "input": [
      "# Multiply every number in a list by 2 using a for loop", 
      "nums1 = [5, 1, 3, 10]", 
      "nums2 = []", 
      "for i in range(len(nums1)):", 
      "    nums2.append(nums1[i] * 2)", 
      "    ", 
      "print nums2"
     ], 
     "language": "python", 
     "outputs": [], 
     "prompt_number": 25
    }, 
    {
     "cell_type": "code", 
     "collapsed": true, 
     "input": [
      "# Multiply every number in a list by 2 using a list comprehension", 
      "nums2 = [x * 2 for x in nums1]", 
      "", 
      "print nums2"
     ], 
     "language": "python", 
     "outputs": [], 
     "prompt_number": 26
    }, 
    {
     "cell_type": "code", 
     "collapsed": true, 
     "input": [
      "# Multiply every number in a list by 2, but only if the number is greater than 4", 
      "nums1 = [5, 1, 3, 10]", 
      "nums2 = []", 
      "for i in range(len(nums1)):", 
      "    if nums1[i] > 4:", 
      "        nums2.append(nums1[i] * 2)", 
      "    ", 
      "print nums2"
     ], 
     "language": "python", 
     "outputs": [], 
     "prompt_number": 27
    }, 
    {
     "cell_type": "code", 
     "collapsed": true, 
     "input": [
      "# And using a list comprehension", 
      "nums2 = [x * 2 for x in nums1 if x > 4]", 
      "", 
      "print nums2"
     ], 
     "language": "python", 
     "outputs": [], 
     "prompt_number": 28
    }
   ]
  }
 ]
}